{
 "cells": [
  {
   "cell_type": "markdown",
   "metadata": {},
   "source": [
    "<p>\n",
    "    <font color = \"#428cf4\">\n",
    "        Connect to Server\n",
    "    </font>\n",
    "</p>"
   ]
  },
  {
   "cell_type": "code",
   "execution_count": 129,
   "metadata": {},
   "outputs": [],
   "source": [
    "import pymysql\n",
    "import pandas as pd"
   ]
  },
  {
   "cell_type": "code",
   "execution_count": 130,
   "metadata": {},
   "outputs": [],
   "source": [
    "dbhost = '142.93.201.12'\n",
    "dbport = 3306\n",
    "dbuser = 'qum6'\n",
    "dbpasswd = '4313210'\n",
    "dbname = 'qum6'"
   ]
  },
  {
   "cell_type": "code",
   "execution_count": 131,
   "metadata": {},
   "outputs": [],
   "source": [
    "conn =  pymysql.connect(host=dbhost, port=dbport, user=dbuser, passwd=dbpasswd, db=dbname)"
   ]
  },
  {
   "cell_type": "code",
   "execution_count": 132,
   "metadata": {},
   "outputs": [],
   "source": [
    "conn.autocommit(1)\n",
    "cursor = conn.cursor()"
   ]
  },
  {
   "cell_type": "markdown",
   "metadata": {},
   "source": [
    "<hr>"
   ]
  },
  {
   "cell_type": "markdown",
   "metadata": {},
   "source": [
    "<p>\n",
    "     <font color = \"#428cf4\">\n",
    "    Insert Into place Table\n",
    "    </font>\n",
    "</p>    "
   ]
  },
  {
   "cell_type": "code",
   "execution_count": 133,
   "metadata": {},
   "outputs": [],
   "source": [
    "\n",
    "p0 = pd.read_csv('restaurant-data-with-consumer-ratings/chefmozhours4.csv') \n",
    "p1 = pd.read_csv('restaurant-data-with-consumer-ratings/chefmozcuisine.csv') \n",
    "p2 = pd.read_csv('restaurant-data-with-consumer-ratings/chefmozaccepts.csv')\n",
    "p3 = pd.read_csv('restaurant-data-with-consumer-ratings/chefmozparking.csv')\n",
    "p4 = pd.read_csv('restaurant-data-with-consumer-ratings/geoplaces2.csv') \n",
    "p5 = pd.read_csv('restaurant-data-with-consumer-ratings/rating_final.csv')"
   ]
  },
  {
   "cell_type": "code",
   "execution_count": 134,
   "metadata": {},
   "outputs": [],
   "source": [
    "pt = pd.Series(p0['placeID'])\n",
    "pt = pt.append(p1['placeID'])\n",
    "pt = pt.append(p2['placeID'])\n",
    "pt = pt.append(p3['placeID'])\n",
    "pt = pt.append(p4['placeID'])\n",
    "pt = pt.append(p5['placeID'])"
   ]
  },
  {
   "cell_type": "code",
   "execution_count": 135,
   "metadata": {},
   "outputs": [],
   "source": [
    "places = pd.DataFrame(pt)\n",
    "uplaces = places.drop_duplicates('placeID')"
   ]
  },
  {
   "cell_type": "code",
   "execution_count": 136,
   "metadata": {},
   "outputs": [],
   "source": [
    "for idx, row in uplaces.iterrows():\n",
    "\n",
    "    sql = \"INSERT INTO place\"\n",
    "    sql = sql + \"(placeID)\"\n",
    "    sql = sql + \"VALUES('\"\n",
    "    sql = sql + str(row[\"placeID\"])\n",
    "    sql = sql +\"')\"\n",
    "    \n",
    "    #print(sql)\n",
    "    cursor.execute(sql)"
   ]
  },
  {
   "cell_type": "markdown",
   "metadata": {},
   "source": [
    "<hr>"
   ]
  },
  {
   "cell_type": "markdown",
   "metadata": {},
   "source": [
    "<p>\n",
    "    <font color = \"#428cf4\">\n",
    "    geoplace2\n",
    "    </font>\n",
    "    <br>\n",
    "    <font color = \"#f4416d\">\n",
    "        Need Fixing. Only inserted 2 rows into databse because row 3 and row 67 has problem with text characters.\n",
    "    </font>\n",
    "    <br>\n",
    "    <font color = \"#33cc33\">\n",
    "        Fixed, by editing the csv file\n",
    "    </font>\n",
    "</p>"
   ]
  },
  {
   "cell_type": "code",
   "execution_count": 137,
   "metadata": {},
   "outputs": [],
   "source": [
    "gp2 = pd.read_csv('restaurant-data-with-consumer-ratings/geoplaces2.csv', encoding = 'utf-8')"
   ]
  },
  {
   "cell_type": "code",
   "execution_count": 138,
   "metadata": {
    "scrolled": true
   },
   "outputs": [],
   "source": [
    "for idx, row in gp2.iterrows():\n",
    "    \n",
    "    sql = \"INSERT INTO geoplaces2\"\n",
    "    sql = sql + \"(fk_gp2_placeID, latitude, longitude, the_geom_meter, name, \"\n",
    "    sql = sql + \"address, city, state, country, fax, zip, alcohol, \"\n",
    "    sql = sql + \"smoking_area, dress_code, accessibility, price, url, \"\n",
    "    sql = sql + \"Rambience, franchise, area, other_services)\"\n",
    "    sql = sql + \"VALUES('\"\n",
    "    sql = sql + str(row[\"placeID\"]) + \"', '\"\n",
    "    sql = sql + str(float(row[\"latitude\"])) + \"', '\"\n",
    "    sql = sql + str(float(row[\"longitude\"])) + \"', '\"\n",
    "    sql = sql + str(row[\"the_geom_meter\"]) + \"', '\"\n",
    "    sql = sql + str(row[\"name\"]) + \"', '\"\n",
    "    sql = sql + str(row[\"address\"]) + \"', '\"\n",
    "    sql = sql + str(row[\"city\"]) + \"', '\"\n",
    "    sql = sql + str(row[\"state\"]) + \"', '\"\n",
    "    sql = sql + str(row[\"country\"]) + \"', '\"\n",
    "    sql = sql + str(row[\"fax\"]) + \"', '\"\n",
    "    sql = sql + str(row[\"zip\"]) + \"', '\"\n",
    "    sql = sql + str(row[\"alcohol\"]) + \"', '\"\n",
    "    sql = sql + str(row[\"smoking_area\"]) + \"', '\"\n",
    "    sql = sql + str(row[\"dress_code\"]) + \"', '\"\n",
    "    sql = sql + str(row[\"accessibility\"]) + \"', '\"\n",
    "    sql = sql + str(row[\"price\"]) + \"', '\"\n",
    "    sql = sql + str(row[\"url\"]) + \"', '\"\n",
    "    sql = sql + str(row[\"Rambience\"]) + \"', '\"\n",
    "    sql = sql + str(row[\"franchise\"]) + \"', '\"\n",
    "    sql = sql + str(row[\"area\"]) + \"', '\"\n",
    "    sql = sql + str(row[\"other_services\"])\n",
    "    sql = sql + \"');\"\n",
    "                    \n",
    "    ##print(sql)\n",
    "    ##print(\"_________________________________________\")\n",
    "    ##print(\" \")\n",
    "    \n",
    "    cursor.execute(sql)"
   ]
  },
  {
   "cell_type": "markdown",
   "metadata": {},
   "source": [
    "<hr>"
   ]
  },
  {
   "cell_type": "markdown",
   "metadata": {},
   "source": [
    "<p>\n",
    "    <font color = \"#428cf4\">\n",
    "    userprofile\n",
    "    </font>\n",
    "</p>"
   ]
  },
  {
   "cell_type": "code",
   "execution_count": 139,
   "metadata": {},
   "outputs": [],
   "source": [
    "up = pd.read_csv('restaurant-data-with-consumer-ratings/userprofile.csv') "
   ]
  },
  {
   "cell_type": "code",
   "execution_count": 140,
   "metadata": {
    "scrolled": true
   },
   "outputs": [],
   "source": [
    "for idx, row in up.iterrows():\n",
    "    \n",
    "    sql = \"INSERT INTO userprofile\"\n",
    "    sql = sql + \"(userID, latitude, longitude, smoker, drink_level, \"\n",
    "    sql = sql + \"dress_preference, ambience, transport, marital_status, \"\n",
    "    sql = sql + \"hijos, birth_year, interest, personality, religion, \"\n",
    "    sql = sql + \"activity, color, weight, budget, height)\"\n",
    "    sql = sql + \"VALUES('\"\n",
    "    sql = sql + str(row[\"userID\"]) + \"', '\"\n",
    "    sql = sql + str(float(row[\"latitude\"])) + \"', '\"\n",
    "    sql = sql + str(float(row[\"longitude\"])) + \"', '\"\n",
    "    sql = sql + str(row[\"smoker\"]) + \"', '\"\n",
    "    sql = sql + str(row[\"drink_level\"]) + \"', '\"\n",
    "    sql = sql + str(row[\"dress_preference\"]) + \"', '\"\n",
    "    sql = sql + str(row[\"ambience\"]) + \"', '\"\n",
    "    sql = sql + str(row[\"transport\"]) + \"', '\"\n",
    "    sql = sql + str(row[\"marital_status\"]) + \"', '\"\n",
    "    sql = sql + str(row[\"hijos\"]) + \"', '\"\n",
    "    sql = sql + str(int(row[\"birth_year\"])) + \"', '\"\n",
    "    sql = sql + str(row[\"interest\"]) + \"', '\"\n",
    "    sql = sql + str(row[\"personality\"]) + \"', '\"\n",
    "    sql = sql + str(row[\"religion\"]) + \"', '\"\n",
    "    sql = sql + str(row[\"activity\"]) + \"', '\"\n",
    "    sql = sql + str(row[\"color\"]) + \"', '\"\n",
    "    sql = sql + str(int(row[\"weight\"])) + \"', '\"\n",
    "    sql = sql + str(row[\"budget\"]) + \"', '\"\n",
    "    sql = sql + str(row[\"height\"])\n",
    "    sql = sql + \"');\"\n",
    "    \n",
    "    #print(sql)\n",
    "    #print(\"_________________________________________\")\n",
    "    #print(\" \")\n",
    "    \n",
    "    cursor.execute(sql)"
   ]
  },
  {
   "cell_type": "markdown",
   "metadata": {},
   "source": [
    "<hr>"
   ]
  },
  {
   "cell_type": "markdown",
   "metadata": {},
   "source": [
    "<p>\n",
    "    <font color = \"#428cf4\">\n",
    "        chefmozaccepts \n",
    "    </font>\n",
    "    <br>\n",
    "      <font color = \"#f4416d\">\n",
    "        Need Fixing. Need geoplace2 to work because it is the parent table \n",
    "    </font>\n",
    "    <br>\n",
    "    <font color = \"#33cc33\">\n",
    "        Fixed\n",
    "    </font>\n",
    "</p>"
   ]
  },
  {
   "cell_type": "code",
   "execution_count": 141,
   "metadata": {},
   "outputs": [],
   "source": [
    "cma = pd.read_csv('restaurant-data-with-consumer-ratings/chefmozaccepts.csv') "
   ]
  },
  {
   "cell_type": "code",
   "execution_count": 142,
   "metadata": {},
   "outputs": [],
   "source": [
    "for idx, row in cma.iterrows():\n",
    "    \n",
    "    sql = \"INSERT INTO chefmozaccepts\"\n",
    "    sql = sql + \"(fk_cma_placeID, Rpayment)\"\n",
    "    sql = sql + \"VALUES('\" \n",
    "    sql = sql + str(row[\"placeID\"]) + \"','\"\n",
    "    sql = sql + str(row[\"Rpayment\"])\n",
    "    sql = sql + \"');\"\n",
    "    \n",
    "    #print(sql)\n",
    "    cursor.execute(sql)"
   ]
  },
  {
   "cell_type": "markdown",
   "metadata": {},
   "source": [
    "<hr>"
   ]
  },
  {
   "cell_type": "markdown",
   "metadata": {},
   "source": [
    "<p>\n",
    "     <font color = \"#428cf4\">\n",
    "    usercuisine\n",
    "    </font>\n",
    "</p>"
   ]
  },
  {
   "cell_type": "code",
   "execution_count": 143,
   "metadata": {},
   "outputs": [],
   "source": [
    "uc = pd.read_csv('restaurant-data-with-consumer-ratings/usercuisine.csv')"
   ]
  },
  {
   "cell_type": "code",
   "execution_count": 144,
   "metadata": {},
   "outputs": [],
   "source": [
    "uc_unq = uc.drop_duplicates('Rcuisine')"
   ]
  },
  {
   "cell_type": "code",
   "execution_count": 145,
   "metadata": {},
   "outputs": [],
   "source": [
    "for idx, row in uc_unq.iterrows():\n",
    "\n",
    "    sql = \"INSERT INTO cuisine\"\n",
    "    sql = sql + \"(Rcuisine)\"\n",
    "    sql = sql + \"VALUES('\"\n",
    "    sql = sql + str(row[\"Rcuisine\"]) \n",
    "    sql = sql + \"')\"\n",
    "    \n",
    "    #print(sql)\n",
    "    \n",
    "    cursor.execute(sql)"
   ]
  },
  {
   "cell_type": "markdown",
   "metadata": {},
   "source": [
    "<hr>"
   ]
  },
  {
   "cell_type": "code",
   "execution_count": null,
   "metadata": {},
   "outputs": [],
   "source": []
  }
 ],
 "metadata": {
  "kernelspec": {
   "display_name": "Python 3",
   "language": "python",
   "name": "python3"
  },
  "language_info": {
   "codemirror_mode": {
    "name": "ipython",
    "version": 3
   },
   "file_extension": ".py",
   "mimetype": "text/x-python",
   "name": "python",
   "nbconvert_exporter": "python",
   "pygments_lexer": "ipython3",
   "version": "3.7.0"
  }
 },
 "nbformat": 4,
 "nbformat_minor": 2
}
